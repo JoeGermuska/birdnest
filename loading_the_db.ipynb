{
 "cells": [
  {
   "cell_type": "markdown",
   "metadata": {},
   "source": [
    "# Working out database loading\n",
    "\n",
    "A scratchpad for updating the database, which might eventually become a little more automated."
   ]
  },
  {
   "cell_type": "code",
   "execution_count": 1,
   "metadata": {},
   "outputs": [
    {
     "name": "stdout",
     "output_type": "stream",
     "text": [
      "JQBX :: Conference of the Birds 2021-04-22\n"
     ]
    }
   ],
   "source": [
    "from spotclient import Client\n",
    "import models\n",
    "\n",
    "db = models.Database()\n",
    "session = models.get_session(create_all=True)\n",
    "\n",
    "c = Client()\n",
    "ab = c.allbirds()\n",
    "latest = ab[0]\n",
    "print(latest['name'])"
   ]
  },
  {
   "cell_type": "code",
   "execution_count": null,
   "metadata": {
    "tags": []
   },
   "outputs": [],
   "source": [
    "# update the database with the latest material\n",
    "playlist = db.insert_playlist_from_json(session, latest)\n",
    "db.rebuild_fts(session)\n",
    "session.commit()\n"
   ]
  },
  {
   "cell_type": "code",
   "execution_count": 2,
   "metadata": {},
   "outputs": [],
   "source": [
    "db.insert_playlist_from_json(session, ab[1])\n",
    "db.rebuild_fts(session)\n",
    "session.commit()\n"
   ]
  },
  {
   "cell_type": "code",
   "execution_count": 3,
   "metadata": {},
   "outputs": [
    {
     "data": {
      "text/plain": [
       "Playlist(3YUtvIkBhG81y4hNPXOl2M)"
      ]
     },
     "execution_count": 3,
     "metadata": {},
     "output_type": "execute_result"
    }
   ],
   "source": [
    "p = session.query(models.Playlist).filter(models.Playlist.name == 'JQBX :: Conference of the Birds 2021-04-15').scalar()\n",
    "p"
   ]
  },
  {
   "cell_type": "code",
   "execution_count": null,
   "metadata": {},
   "outputs": [],
   "source": [
    "session.delete(p)\n",
    "session.commit()"
   ]
  },
  {
   "cell_type": "code",
   "execution_count": 4,
   "metadata": {},
   "outputs": [
    {
     "name": "stdout",
     "output_type": "stream",
     "text": [
      "0 Fyah by Soul Rebel Sound, Pressure Busspipe\n",
      "1 Longe tão perto by Os Vips\n",
      "2 Greenpath by Christopher Larkin\n",
      "3 Miles' Theme by Shirley Scott\n",
      "4 Maghostut Two by Ernest Dawkins, New Horizons Ensemble\n",
      "5 Treat 'Em Right by Chubb Rock\n",
      "6 Mystic Bounce by Madlib\n",
      "7 The Colors That You Bring by Damon Locks, Black Monument Ensemble\n",
      "8 Death Sting Me Blues by Sara Martin\n",
      "9 I Need Never Get Old - Live by Nathaniel Rateliff & The Night Sweats\n",
      "10 Funky World Part 1 by Silky Vincent\n",
      "11 Loving You Is on My Mind by The Meters\n",
      "12 Matter of Time by Sharon Jones & The Dap-Kings\n",
      "13 Yuh Body - Remix by Busy Signal, ZJ Sparks, Loud City\n",
      "14 Original Nuttah 25 - Benny L Remix by Uk Apache, SHY FX, Benny L\n",
      "15 Spruce Tops by Bibio\n",
      "16 Easy Going by Señora\n",
      "17 Love the One You're With by The Isley Brothers\n",
      "18 Pass The Dutchie by Musical Youth\n",
      "19 Gimme Some More by Labi Siffre\n",
      "20 Let Me Try by MC5\n",
      "21 (I'm Afraid) The Masquerade Is Over by Etta James\n",
      "22 They Say It's Wonderful by John Coltrane, Johnny Hartman\n",
      "23 It's All over Now Baby Blue - Previously Unissued Live In San Francisco 1966 Version by Grateful Dead\n",
      "24 The Pulsation by Pauline Anna Strom\n",
      "25 Angel On A Trampoline by The Aluminum Group\n",
      "26 Christo Redemptor by Charlie Musselwhite\n",
      "27 In the Court of the Junkyard King by Chris Schlarb\n",
      "28 Potlatch - Remastered by Tad\n",
      "29 Downbound Train by Chuck Berry\n",
      "30 Fall Out by The Braen's Machine\n",
      "31 At Last - Remastered by Baby Face Willette\n",
      "32 Inner City Blues by Delvon Lamarr Organ Trio\n",
      "33 The Golden Lady by John Medeski's Mad Skillet, John Medeski\n",
      "34 Albela - Alternative Version by Quantic and His Combo Barbaro\n",
      "35 Unusual Tatami by SpeakLOW\n",
      "36 Bass Culture by Linton Kwesi Johnson\n",
      "37 Call Me Your Lover by Mary Afi Usuah\n",
      "38 Love And Peace by Quincy Jones\n",
      "39 Singing Winds, Crying Beasts by Santana\n",
      "40 As Minas Do Rei Salomão by Raul Seixas\n"
     ]
    }
   ],
   "source": [
    "for i,t in enumerate(p.tracks):\n",
    "    print(i,t)"
   ]
  },
  {
   "cell_type": "code",
   "execution_count": null,
   "metadata": {},
   "outputs": [],
   "source": [
    "nt = p.tracks[:35] + p.tracks[36:]"
   ]
  },
  {
   "cell_type": "code",
   "execution_count": null,
   "metadata": {},
   "outputs": [],
   "source": [
    "p.tracks = nt"
   ]
  },
  {
   "cell_type": "code",
   "execution_count": null,
   "metadata": {},
   "outputs": [],
   "source": [
    "session.rollback()"
   ]
  },
  {
   "cell_type": "code",
   "execution_count": null,
   "metadata": {},
   "outputs": [],
   "source": [
    "list(p)"
   ]
  },
  {
   "cell_type": "code",
   "execution_count": null,
   "metadata": {},
   "outputs": [],
   "source": []
  },
  {
   "cell_type": "code",
   "execution_count": null,
   "metadata": {},
   "outputs": [],
   "source": []
  },
  {
   "cell_type": "code",
   "execution_count": null,
   "metadata": {},
   "outputs": [],
   "source": []
  },
  {
   "cell_type": "code",
   "execution_count": null,
   "metadata": {},
   "outputs": [],
   "source": []
  },
  {
   "cell_type": "code",
   "execution_count": null,
   "metadata": {},
   "outputs": [],
   "source": []
  },
  {
   "cell_type": "code",
   "execution_count": null,
   "metadata": {},
   "outputs": [],
   "source": []
  },
  {
   "cell_type": "code",
   "execution_count": null,
   "metadata": {},
   "outputs": [],
   "source": []
  },
  {
   "cell_type": "code",
   "execution_count": null,
   "metadata": {},
   "outputs": [],
   "source": []
  },
  {
   "cell_type": "code",
   "execution_count": null,
   "metadata": {},
   "outputs": [],
   "source": []
  },
  {
   "cell_type": "code",
   "execution_count": null,
   "metadata": {},
   "outputs": [],
   "source": [
    "#!cat create_and_populate_track_search.sql | sqlite3 birdnest.db\n",
    "FTS_INSERT_SQL = '''\n",
    "insert into track_search (track_id, track, artist, album) \n",
    "    select t.track_id,\n",
    "           t.name track,\n",
    "           GROUP_CONCAT(a.name,';') artist,\n",
    "           album.name album\n",
    "    from \n",
    "        playlist p,\n",
    "        playlist_track pt,\n",
    "        track t,\n",
    "        track_artist ta,\n",
    "        artist a,\n",
    "        album \n",
    "    where t.track_id = ta.track_id \n",
    "         and ta.artist_id = a.artist_id\n",
    "         and p.playlist_id = pt.playlist_id\n",
    "         and pt.track_id = t.track_id\n",
    "         and t.album_id = album.album_id\n",
    "         and p.playlist_id = :playlist_id\n",
    "    group by t.track_id, t.name'''\n"
   ]
  },
  {
   "cell_type": "code",
   "execution_count": null,
   "metadata": {},
   "outputs": [],
   "source": [
    "r = session.execute(FTS_INSERT_SQL, params={'playlist_id': 50})"
   ]
  },
  {
   "cell_type": "code",
   "execution_count": null,
   "metadata": {},
   "outputs": [],
   "source": [
    "session.commit()"
   ]
  },
  {
   "cell_type": "code",
   "execution_count": null,
   "metadata": {},
   "outputs": [],
   "source": [
    "\n",
    "def load_all_playlists(session):\n",
    "    c = Client()\n",
    "    ab = c.allbirds()\n",
    "    for p in reversed(ab):\n",
    "        db.insert_playlist_from_json(session,p)\n",
    "        print(p['name'])\n",
    "    fill_in_albums(session) \n",
    "        "
   ]
  },
  {
   "cell_type": "code",
   "execution_count": null,
   "metadata": {},
   "outputs": [],
   "source": []
  },
  {
   "cell_type": "code",
   "execution_count": null,
   "metadata": {},
   "outputs": [],
   "source": []
  },
  {
   "cell_type": "code",
   "execution_count": null,
   "metadata": {},
   "outputs": [],
   "source": []
  },
  {
   "cell_type": "code",
   "execution_count": null,
   "metadata": {},
   "outputs": [],
   "source": [
    "track.album.name"
   ]
  },
  {
   "cell_type": "code",
   "execution_count": null,
   "metadata": {},
   "outputs": [],
   "source": []
  }
 ],
 "metadata": {
  "kernelspec": {
   "display_name": "Python 3",
   "language": "python",
   "name": "python3"
  },
  "language_info": {
   "codemirror_mode": {
    "name": "ipython",
    "version": 3
   },
   "file_extension": ".py",
   "mimetype": "text/x-python",
   "name": "python",
   "nbconvert_exporter": "python",
   "pygments_lexer": "ipython3",
   "version": "3.8.2"
  }
 },
 "nbformat": 4,
 "nbformat_minor": 4
}
