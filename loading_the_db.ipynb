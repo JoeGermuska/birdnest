{
 "cells": [
  {
   "cell_type": "markdown",
   "metadata": {},
   "source": [
    "# Working out database loading\n",
    "\n",
    "As this is now, it will fill in the complete database.\n",
    "If you really want to reset things, you should delete the SQLite db file first.\n",
    "\n",
    "This'll do for now."
   ]
  },
  {
   "cell_type": "code",
   "execution_count": 1,
   "metadata": {},
   "outputs": [],
   "source": [
    "from spotclient import Client\n",
    "import models\n",
    "\n",
    "db = models.Database()\n",
    "session = models.get_session(create_all=True)\n",
    "\n",
    "c = Client()\n",
    "ab = c.allbirds()\n",
    "latest = ab[0]"
   ]
  },
  {
   "cell_type": "code",
   "execution_count": 2,
   "metadata": {},
   "outputs": [],
   "source": [
    "playlist = db.insert_playlist_from_json(session, latest)\n",
    "# track_ids = [t.spotify_id for t in playlist.tracks]\n",
    "# spot_tracks = dict((t['id'], t) for t in c.tracks(track_ids))\n",
    "# for track in playlist.tracks:\n",
    "#     t = c._sp.track(playlist.tracks[0].spotify_id)\n",
    "#     t.album = models.Album.get_or_create(session, )\n",
    "\n",
    "    \n",
    "    \n",
    "session.commit()\n"
   ]
  },
  {
   "cell_type": "code",
   "execution_count": 17,
   "metadata": {},
   "outputs": [],
   "source": [
    "tracks = c.playlist_tracks(latest['id'])"
   ]
  },
  {
   "cell_type": "code",
   "execution_count": 18,
   "metadata": {},
   "outputs": [
    {
     "data": {
      "text/plain": [
       "{'artist': 'Tortoise',\n",
       " 'title': 'Cornpone Brunch',\n",
       " 'album': 'Tortoise',\n",
       " 'url': 'https://open.spotify.com/track/6I5Jew45g2z0s5UayE0rHw'}"
      ]
     },
     "execution_count": 18,
     "metadata": {},
     "output_type": "execute_result"
    }
   ],
   "source": [
    "tracks[0]"
   ]
  },
  {
   "cell_type": "code",
   "execution_count": null,
   "metadata": {},
   "outputs": [],
   "source": []
  }
 ],
 "metadata": {
  "kernelspec": {
   "display_name": "Python 3",
   "language": "python",
   "name": "python3"
  },
  "language_info": {
   "codemirror_mode": {
    "name": "ipython",
    "version": 3
   },
   "file_extension": ".py",
   "mimetype": "text/x-python",
   "name": "python",
   "nbconvert_exporter": "python",
   "pygments_lexer": "ipython3",
   "version": "3.8.2"
  }
 },
 "nbformat": 4,
 "nbformat_minor": 4
}
