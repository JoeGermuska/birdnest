{
 "cells": [
  {
   "cell_type": "markdown",
   "metadata": {},
   "source": [
    "# Working out database loading\n",
    "\n",
    "As this is now, it will fill in the complete database.\n",
    "If you really want to reset things, you should delete the SQLite db file first.\n",
    "\n",
    "This'll do for now."
   ]
  },
  {
   "cell_type": "code",
   "execution_count": 1,
   "metadata": {},
   "outputs": [
    {
     "name": "stdout",
     "output_type": "stream",
     "text": [
      "JQBX :: Conference of the Birds 2021-03-25\n"
     ]
    }
   ],
   "source": [
    "from spotclient import Client\n",
    "import models\n",
    "\n",
    "db = models.Database()\n",
    "session = models.get_session(create_all=True)\n",
    "\n",
    "c = Client()\n",
    "ab = c.allbirds()\n",
    "latest = ab[0]\n",
    "print(latest['name'])"
   ]
  },
  {
   "cell_type": "code",
   "execution_count": 17,
   "metadata": {},
   "outputs": [],
   "source": [
    "def fill_in_albums(session):\n",
    "    # find all tracks that don't have albums\n",
    "    # in the normal flow, we don't have the album IDs, so it's about as easy to find tracks that need them\n",
    "    # and look them up.\n",
    "    # don't forget to commit the session yourself...\n",
    "    track_ids = [t.spotify_id for t in session.query(models.Track).filter(models.Track.album == None)]\n",
    "\n",
    "    # figure out their albums\n",
    "    api_tracks = c.tracks(track_ids)\n",
    "    track_album_ids = dict((t['id'], t['album']['id']) for t in api_tracks)\n",
    "    album_ids = track_album_ids.values()\n",
    "\n",
    "    # and get the API data for those albums\n",
    "    api_albums = c.albums(album_ids)\n",
    "    api_album_dict = dict((a['id'], a) for a in api_albums)\n",
    "\n",
    "    # and then create those album objects and attach them\n",
    "    for k,v in track_album_ids.items():\n",
    "        track = session.query(models.Track).filter(models.Track.spotify_id == k).first()\n",
    "        track.album = models.Album.get_or_create(session, v, api_album_dict[v])\n"
   ]
  },
  {
   "cell_type": "code",
   "execution_count": null,
   "metadata": {},
   "outputs": [],
   "source": [
    "# update the database with the latest material\n",
    "playlist = db.insert_playlist_from_json(session, latest)\n",
    "fill_in_albums(session) \n",
    "session.commit()"
   ]
  },
  {
   "cell_type": "code",
   "execution_count": 21,
   "metadata": {},
   "outputs": [],
   "source": [
    "!cat create_and_populate_track_search.sql | sqlite3 birdnest.db"
   ]
  },
  {
   "cell_type": "code",
   "execution_count": 16,
   "metadata": {},
   "outputs": [],
   "source": []
  },
  {
   "cell_type": "code",
   "execution_count": 14,
   "metadata": {},
   "outputs": [],
   "source": []
  },
  {
   "cell_type": "code",
   "execution_count": 15,
   "metadata": {},
   "outputs": [
    {
     "data": {
      "text/plain": [
       "'The Roches'"
      ]
     },
     "execution_count": 15,
     "metadata": {},
     "output_type": "execute_result"
    }
   ],
   "source": [
    "track.album.name"
   ]
  },
  {
   "cell_type": "code",
   "execution_count": null,
   "metadata": {},
   "outputs": [],
   "source": []
  }
 ],
 "metadata": {
  "kernelspec": {
   "display_name": "Python 3",
   "language": "python",
   "name": "python3"
  },
  "language_info": {
   "codemirror_mode": {
    "name": "ipython",
    "version": 3
   },
   "file_extension": ".py",
   "mimetype": "text/x-python",
   "name": "python",
   "nbconvert_exporter": "python",
   "pygments_lexer": "ipython3",
   "version": "3.8.2"
  }
 },
 "nbformat": 4,
 "nbformat_minor": 4
}
