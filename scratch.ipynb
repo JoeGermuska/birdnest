{
 "cells": [
  {
   "cell_type": "markdown",
   "metadata": {},
   "source": [
    "# Working out database loading\n",
    "\n",
    "As this is now, it will fill in the complete database.\n",
    "If you really want to reset things, you should delete the SQLite db file first.\n",
    "\n",
    "This'll do for now."
   ]
  },
  {
   "cell_type": "code",
   "execution_count": 1,
   "metadata": {},
   "outputs": [],
   "source": [
    "from spotclient import Client\n",
    "import models\n",
    "c = Client()\n",
    "ab = c.allbirds()\n",
    "db = models.Database()\n",
    "session = models.get_session()"
   ]
  },
  {
   "cell_type": "code",
   "execution_count": 2,
   "metadata": {},
   "outputs": [
    {
     "name": "stdout",
     "output_type": "stream",
     "text": [
      "JQBX :: Conference of the Birds 2021-03-04\n",
      "JQBX :: Conference of the Birds 2021-02-25\n",
      "JQBX :: Conference of the Birds 2021-02-18\n",
      "JQBX :: Conference of the Birds 2021-02-11\n",
      "JQBX :: Conference of the Birds 2021-02-04\n",
      "JQBX :: Conference of the Birds 2021-01-28\n",
      "JQBX :: Conference of the Birds 2021-01-21\n",
      "JQBX :: Conference of the Birds 2021-01-14\n",
      "JQBX :: Conference of the Birds 2021-01-07\n",
      "JQBX :: Conference of the Birds 2020-12-30\n",
      "JQBX :: Conference of the Birds 2020-12-23\n",
      "JQBX :: Conference of the Birds 2020-12-17\n",
      "JQBX :: Conference of the Birds 2020-12-11\n",
      "JQBX :: Conference of the Birds 2020-12-10\n",
      "JQBX :: Conference of the Birds 2020-12-03\n",
      "JQBX :: Conference of the Birds 2020-11-26\n",
      "JQBX :: Conference of the Birds 2020-11-19\n",
      "JQBX :: Conference of the Birds 2020-11-12\n",
      "JQBX :: Conference of the Birds 2020-11-05\n",
      "JQBX :: Conference of the Birds 2020-10-29\n",
      "JQBX :: Conference of the Birds 2020-10-22\n",
      "JQBX :: Conference of the Birds 2020-10-15\n",
      "JQBX :: Conference of the Birds 2020-10-08\n",
      "JQBX :: Conference of the Birds 2020-10-01\n",
      "JQBX :: Conference of the Birds 2020-09-24\n",
      "JQBX :: Conference of the Birds 2020-09-17\n",
      "JQBX :: Conference of the Birds 2020-09-10\n",
      "JQBX :: Conference of the Birds 2020-09-03\n",
      "JQBX :: Conference of the Birds 2020-08-27\n",
      "JQBX :: Conference of the Birds 2020-08-20\n",
      "JQBX :: Conference of the Birds 2020-07-30\n",
      "JQBX :: Conference of the Birds 2020-07-23\n",
      "JQBX :: Conference of the Birds 2020-07-09\n",
      "JQBX :: Conference of the Birds 2020-07-02\n",
      "JQBX :: Conference of the Birds 2020-06-25\n",
      "JQBX :: Conference of the Birds 2020-06-18\n",
      "JQBX :: Conference of the Birds 2020-06-11\n",
      "JQBX :: Conference of the Birds 2020-06-04\n",
      "JQBX :: Conference of the Birds 2020-05-28\n",
      "JQBX :: Conference of the Birds 2020-05-21\n",
      "JQBX :: Conference of the Birds 2020-05-14\n",
      "JQBX :: Conference of the Birds 2020-05-07\n",
      "JQBX :: Conference of the Birds 2020-04-23\n",
      "💫 JQBX :: Conference of the Birds 2020-04-16\n",
      "JQBX :: Conference of the Birds 2020-04-07\n"
     ]
    }
   ],
   "source": [
    "for b in ab:\n",
    "    p = db.insert_playlist_from_json(session, b)\n",
    "    print(p.name)"
   ]
  },
  {
   "cell_type": "code",
   "execution_count": 3,
   "metadata": {},
   "outputs": [],
   "source": [
    "session.commit()"
   ]
  },
  {
   "cell_type": "code",
   "execution_count": null,
   "metadata": {},
   "outputs": [],
   "source": []
  }
 ],
 "metadata": {
  "kernelspec": {
   "display_name": "Python 3",
   "language": "python",
   "name": "python3"
  },
  "language_info": {
   "codemirror_mode": {
    "name": "ipython",
    "version": 3
   },
   "file_extension": ".py",
   "mimetype": "text/x-python",
   "name": "python",
   "nbconvert_exporter": "python",
   "pygments_lexer": "ipython3",
   "version": "3.8.2"
  }
 },
 "nbformat": 4,
 "nbformat_minor": 4
}
